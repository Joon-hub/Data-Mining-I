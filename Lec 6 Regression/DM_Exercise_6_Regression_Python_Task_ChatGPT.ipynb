{
 "cells": [
  {
   "cell_type": "markdown",
   "metadata": {},
   "source": [
    "Run the cell below if you are using Google Colab to mount your Google Drive in your Colab instance. Adjust the path to the files in your Google Drive as needed if it differs.\n",
    "\n",
    "If you do not use Google Colab, running the cell will simply do nothing, so do not worry about it."
   ]
  },
  {
   "cell_type": "code",
   "execution_count": 1,
   "metadata": {},
   "outputs": [],
   "source": [
    "try:\n",
    "    from google.colab import drive\n",
    "    drive.mount('/content/drive/')\n",
    "    %cd 'drive/My Drive/Colab Notebooks/06_Regression'\n",
    "except ImportError as e:\n",
    "    pass"
   ]
  },
  {
   "cell_type": "markdown",
   "metadata": {},
   "source": [
    "## Exercise 6: Regression\n",
    "\n",
    "### 6.1. Modeling characteristics of fish\n",
    "The Fish dataset is a simple dataset which helps to illustrate the linear and non-linear dependencies which may exist between different attributes of the data. The dataset is provided in the fish.csv file. It contains 44 examples, each with four attributes: age, water temperature, weight and length.\n",
    "#### 6.1.1 Load the Fish dataset and visualize it by combining different attributes. Can you make an assumption about the function to predict the weight and length based on one of the variables?"
   ]
  },
  {
   "cell_type": "code",
   "execution_count": null,
   "metadata": {
    "scrolled": true
   },
   "outputs": [],
   "source": [
    "# Load fish data\n",
    "import pandas as pd\n",
    "fish = pd.read_csv('fish.csv')\n",
    "fish.head()"
   ]
  },
  {
   "cell_type": "code",
   "execution_count": null,
   "metadata": {
    "scrolled": false
   },
   "outputs": [],
   "source": [
    "import itertools\n",
    "import matplotlib.pyplot as plt\n",
    "\n",
    "# create a list of all columns that we are considering\n",
    "features = [ 'age', 'temp', 'weight', 'length' ]\n",
    "\n",
    "# create all combinations of considered columns\n",
    "combinations = itertools.combinations(features, 2)\n",
    "\n",
    "# create a figure and specify its size\n",
    "fig = plt.figure(figsize=(15,10))\n",
    "\n",
    "# go through all combinations and create one plot for each\n",
    "figure_index = 1\n",
    "for combination in combinations:\n",
    "    # add a sub plot to the figure\n",
    "    axs = fig.add_subplot(2,3,figure_index)\n",
    "    \n",
    "    # plot the feature combination\n",
    "    axs.scatter(fish[combination[0]], fish[combination[1]])\n",
    "    \n",
    "    # set the axis labels of the current sub plot\n",
    "    axs.set_xlabel(combination[0])\n",
    "    axs.set_ylabel(combination[1])\n",
    "        \n",
    "    # increase the figure index (otherwise all plots are drawn in the first subplot)\n",
    "    figure_index+=1\n",
    "\n",
    "    \n",
    "# show the plot\n",
    "plt.show()"
   ]
  },
  {
   "cell_type": "markdown",
   "metadata": {},
   "source": [
    "#### 6.1.2 Learn a linear regression model that predicts the weight of the fish, and another one that predicts the length of the fish based on the combination of attributes you find most convenient for this. Which types of regression work best? Do they apply equally to all combinations of attributes? Make sure to evaluate your results properly!"
   ]
  },
  {
   "cell_type": "code",
   "execution_count": null,
   "metadata": {},
   "outputs": [],
   "source": [
    "from sklearn.model_selection import train_test_split\n",
    "\n",
    "# separate features and target variable\n",
    "length = fish['length']\n",
    "weight = fish['weight']\n",
    "\n",
    "# special case: we only have one feature, so we must reshape the data here\n",
    "features = fish['age'].values.reshape(-1, 1)\n",
    "\n",
    "# create a train/test split\n",
    "length_train, length_test, length_target_train, length_target_test = train_test_split(\n",
    "    features, length, test_size=0.4, random_state=42)\n",
    "\n",
    "weight_train, weight_test, weight_target_train, weight_target_test = train_test_split(\n",
    "    features, weight, test_size=0.4, random_state=42)"
   ]
  },
  {
   "cell_type": "markdown",
   "metadata": {},
   "source": [
    "Learn a linear regression model for the weight:"
   ]
  },
  {
   "cell_type": "code",
   "execution_count": null,
   "metadata": {},
   "outputs": [],
   "source": [
    "from sklearn.linear_model import LinearRegression\n",
    "\n",
    "# create and fit a linear regression\n",
    "#TODO: INSERT YOUR CODE HERE\n",
    "\n",
    "# plot the original values\n",
    "plt.scatter(weight_train, weight_target_train, c='green', label='train')\n",
    "plt.scatter(weight_test, weight_target_test, c='blue', label='test')\n",
    "\n",
    "# plot the predicted values\n",
    "#TODO: INSERT YOUR CODE HERE\n",
    "\n",
    "# format and show the plot\n",
    "plt.xlabel('age')\n",
    "plt.ylabel('weight')\n",
    "plt.legend()\n",
    "plt.show()\n",
    "\n",
    "# print the model that was fitted (the regression formula)\n",
    "#TODO: INSERT YOUR CODE HERE"
   ]
  },
  {
   "cell_type": "markdown",
   "metadata": {},
   "source": [
    "Learn a linear regression model for the length:"
   ]
  },
  {
   "cell_type": "code",
   "execution_count": null,
   "metadata": {},
   "outputs": [],
   "source": [
    "# create and fit a linear regression\n",
    "#TODO: INSERT YOUR CODE HERE\n",
    "\n",
    "# plot the original values\n",
    "plt.scatter(length_train, length_target_train, c='green', label='train')\n",
    "plt.scatter(length_test, length_target_test, c='blue', label='test')\n",
    "\n",
    "# plot the predicted values\n",
    "#TODO: INSERT YOUR CODE HERE\n",
    "\n",
    "# format and show the plot\n",
    "plt.xlabel('age')\n",
    "plt.ylabel('length')\n",
    "plt.legend()\n",
    "plt.show()\n",
    "\n",
    "# print the model that was fitted (the regression formula)\n",
    "#TODO: INSERT YOUR CODE HERE"
   ]
  },
  {
   "cell_type": "markdown",
   "metadata": {},
   "source": [
    "Learn a polynomial regression model for the length:"
   ]
  },
  {
   "cell_type": "code",
   "execution_count": null,
   "metadata": {},
   "outputs": [],
   "source": [
    "from sklearn.linear_model import LinearRegression\n",
    "from sklearn.preprocessing import PolynomialFeatures\n",
    "from sklearn.pipeline import Pipeline\n",
    "\n",
    "# create a transformer that generates polynomial features\n",
    "#TODO: INSERT YOUR CODE HERE\n",
    "\n",
    "# setup and fit a pipeline\n",
    "#TODO: INSERT YOUR CODE HERE\n",
    "\n",
    "prediction = pipeline.predict(features)\n",
    "\n",
    "# plot the original values\n",
    "plt.scatter(length_train, length_target_train, c='green', label='train')\n",
    "plt.scatter(length_test, length_target_test, c='blue', label='test')\n",
    "\n",
    "# create a new dataframe that contains the age and the predictions\n",
    "d = fish[['age']]\n",
    "d = d.assign(prediction=prediction)\n",
    "\n",
    "# sort the data before plotting it\n",
    "d = d.sort_values(by='age')\n",
    "\n",
    "# plot the predicted values\n",
    "plt.plot(d['age'], d['prediction'], c='red', label='prediction')\n",
    "\n",
    "plt.xlabel('age')\n",
    "plt.ylabel('length')\n",
    "plt.legend()\n",
    "plt.show()\n",
    "\n",
    "# print the model that was fitted (the regression formula)\n",
    "print(\"length = \", end='')\n",
    "for i, f in enumerate(pipeline.named_steps['transformer'].get_feature_names(['age'])):\n",
    "    if i > 0:\n",
    "        print(\" + \", end='')\n",
    "    print(\"{}*{}\".format(pipeline.named_steps['estimator'].coef_[i], f), end='')\n",
    "print(\" + {}\".format(pipeline.named_steps['estimator'].intercept_))\n"
   ]
  },
  {
   "cell_type": "markdown",
   "metadata": {},
   "source": [
    "#### 6.1.3 Measure the performance of the different regression models you learned before. Use 10-fold cross validation and RMSE for evaluation."
   ]
  },
  {
   "cell_type": "code",
   "execution_count": null,
   "metadata": {},
   "outputs": [],
   "source": [
    "from sklearn.metrics import mean_squared_error, r2_score\n",
    "from math import sqrt\n",
    "\n",
    "print(\"Weight as a function of age\")\n",
    "#TODO: INSERT YOUR CODE HERE\n",
    "print(\"MSE:\", mse_1)\n",
    "print(\"RMSE:\", sqrt(mse_1))\n",
    "print(\"R^2:\", r2_1)\n",
    "print()\n",
    "\n",
    "print(\"Length as a function of age (linear)\")\n",
    "#TODO: INSERT YOUR CODE HERE\n",
    "print(\"MSE:\", mse_2)\n",
    "print(\"RMSE:\", sqrt(mse_2))\n",
    "print(\"R^2:\", r2_2)\n",
    "print()\n",
    "\n",
    "print(\"Length as a function of age (polynomial)\")\n",
    "#TODO: INSERT YOUR CODE HERE\n",
    "print(\"MSE:\", mse_3)\n",
    "print(\"RMSE:\", sqrt(mse_3))\n",
    "print(\"R^2:\", r2_3)\n",
    "print()"
   ]
  },
  {
   "cell_type": "markdown",
   "metadata": {},
   "source": [
    "### 6.2. Feature Selection\n",
    "In this exercise you will explore different feature selection methods for linear regression.\n",
    "\n",
    "#### 1. First, fit a linear regression model to the “birthweight_train” dataset without any feature selection and evaluate the model on the “birthweight_test” dataset."
   ]
  },
  {
   "cell_type": "code",
   "execution_count": null,
   "metadata": {},
   "outputs": [],
   "source": [
    "# Load train and test data\n",
    "b_train = pd.read_csv('birthweight_train.csv', sep=';')\n",
    "b_test = pd.read_csv('birthweight_test.csv', sep=';')\n",
    "\n",
    "b_train.head()"
   ]
  },
  {
   "cell_type": "code",
   "execution_count": null,
   "metadata": {},
   "outputs": [],
   "source": [
    "# Split features and target\n",
    "\n",
    "# drop the 'id' and 'Birthweigth' columns from the feature set\n",
    "# using .iloc[,] you can access parts of the dataframe using numeric indices\n",
    "# the first argument specifies which records to keep (here : means all)\n",
    "# the second argument specifies which columns to keep (here 0:-2 means start from the first and end before the second last)\n",
    "features_train = b_train.iloc[:,0:-2]\n",
    "target_train = b_train['Birthweight']\n",
    "\n",
    "features_test = b_test.iloc[:,0:-2]\n",
    "target_test = b_test['Birthweight']\n",
    "\n",
    "features_train.head()"
   ]
  },
  {
   "cell_type": "markdown",
   "metadata": {},
   "source": [
    "We start with a standard linear regression model using all the features."
   ]
  },
  {
   "cell_type": "code",
   "execution_count": null,
   "metadata": {},
   "outputs": [],
   "source": [
    "#TODO: INSERT YOUR CODE HERE\n",
    "print(\"RMSE:\", sqrt(mse))"
   ]
  },
  {
   "cell_type": "markdown",
   "metadata": {},
   "source": [
    "#### 2. Look at the results of an F-Regression and inspect the p-values for each feature. Fit a second regression model using only the significant features (p<=0.05). How does the performance of your model change?"
   ]
  },
  {
   "cell_type": "code",
   "execution_count": null,
   "metadata": {
    "scrolled": true
   },
   "outputs": [],
   "source": [
    "from sklearn.feature_selection import f_regression\n",
    "\n",
    "# run the F-Test\n",
    "#TODO: INSERT YOUR CODE HERE\n",
    "\n",
    "# show the results\n",
    "#TODO: INSERT YOUR CODE HERE"
   ]
  },
  {
   "cell_type": "code",
   "execution_count": null,
   "metadata": {
    "scrolled": false
   },
   "outputs": [],
   "source": [
    "from sklearn.feature_selection import SelectKBest, SelectFwe\n",
    "\n",
    "# create a pipeline with feature selection based on the F Test\n",
    "#TODO: INSERT YOUR CODE HERE\n",
    "\n",
    "# fit the regression on the training data\n",
    "#TODO: INSERT YOUR CODE HERE\n",
    "\n",
    "# predict the values for the test data\n",
    "#TODO: INSERT YOUR CODE HERE\n",
    "\n",
    "# evaluate on the test set\n",
    "#TODO: INSERT YOUR CODE HERE\n",
    "print(\"RMSE:\", rmse)"
   ]
  },
  {
   "cell_type": "markdown",
   "metadata": {},
   "source": [
    "#### 3. Look at the new model and inspect the p-values again. Are there any features for which the p-value has changed?"
   ]
  },
  {
   "cell_type": "code",
   "execution_count": null,
   "metadata": {},
   "outputs": [],
   "source": [
    "# run the F-Test again on selected features\n",
    "\n",
    "# prepare a dataframe to inspect the results\n",
    "\n",
    "# show the results"
   ]
  },
  {
   "cell_type": "markdown",
   "metadata": {},
   "source": [
    "### 6.3. Predicting housing prices in Boston\n",
    "\n",
    "The Housing dataset describes 506 houses in the suburbs of Boston in 1993. The data set is provided in the housing.csv file. The houses are described by the following 12 continuous attributes and 1 binary attribute.\n",
    "\n",
    "#### 1. Your task is to find a good regression model for determining the median value (column MEDV) of a house.\n",
    "You may experiment with different regression models and parameter tuning. As always, it\n",
    "may help to first visualize different attribute combinations of the data."
   ]
  },
  {
   "cell_type": "code",
   "execution_count": null,
   "metadata": {},
   "outputs": [],
   "source": [
    "# Load the training and test data\n",
    "h_train = pd.read_csv('housing_train.csv', sep=';')\n",
    "h_test = pd.read_csv('housing_test.csv', sep=';')\n",
    "h_train.head()"
   ]
  },
  {
   "cell_type": "code",
   "execution_count": null,
   "metadata": {},
   "outputs": [],
   "source": [
    "# Split features and target\n",
    "train_data = h_train.iloc[:,0:-1]\n",
    "train_target = h_train['MEDV']\n",
    "\n",
    "test_data = h_test.iloc[:,0:-1]\n",
    "test_target = h_test['MEDV']"
   ]
  },
  {
   "cell_type": "markdown",
   "metadata": {},
   "source": [
    "Run all regression approaches that you learned about in a grid search:"
   ]
  },
  {
   "cell_type": "code",
   "execution_count": null,
   "metadata": {},
   "outputs": [],
   "source": [
    "from sklearn.linear_model import Ridge\n",
    "from sklearn.neighbors import KNeighborsRegressor\n",
    "from sklearn.tree import DecisionTreeRegressor\n",
    "from sklearn.neural_network import MLPRegressor\n",
    "from sklearn.model_selection import GridSearchCV\n",
    "from sklearn.feature_selection import RFECV\n",
    "from sklearn.preprocessing import StandardScaler\n",
    "\n",
    "#TODO: INSERT YOUR CODE HERE"
   ]
  },
  {
   "cell_type": "markdown",
   "metadata": {
    "slideshow": {
     "slide_type": "subslide"
    }
   },
   "source": [
    "Next steps: Look at the different parameters of the regression approaches and try to optimse them. Also experiment with feature selection to improve your model!"
   ]
  },
  {
   "cell_type": "markdown",
   "metadata": {},
   "source": [
    "# ChatGPT Bonus Exercises\n",
    "Reminder: Do not take the answers of ChatGPT at face value! Always cross-check with lecture slides, literature and/or the teaching staff!"
   ]
  },
  {
   "cell_type": "markdown",
   "metadata": {},
   "source": [
    "### C.1. Discuss types of regression models\n",
    "* Use ChatGPT to compare the different regression models you learned about in the lecture. What are common challenges and limitations associated with regression analysis, and how can the different models address these issues? Which guidelines does ChatGPT propose for selecting an appropriate regression model?"
   ]
  },
  {
   "cell_type": "markdown",
   "metadata": {},
   "source": [
    "### C.2. Learn about more ways for feature selection in Python\n",
    "* Ask ChatGPT about the difference between feature selection using the p-value with a threshold and recursively removing features. Finally, ask ChatGPT to generate python code that evaluates the recursive elimination on the dataset from task 6.2."
   ]
  },
  {
   "cell_type": "code",
   "execution_count": null,
   "metadata": {},
   "outputs": [],
   "source": [
    "# put your code here"
   ]
  },
  {
   "cell_type": "markdown",
   "metadata": {},
   "source": [
    "### C.3. Self-Assessment\n",
    "* Ask ChatGPT to create a pen-and-paper exercise for graduate students that lets you practice the calculation of the evaluation metrics MAE, MSE and RMSE. \n",
    "* Ask ChatGPT to create an exam exercise for graduate students on linear regressions. The task should include a question on how insignificant variables are identified and how they impact the model’s performance. Get the answer from ChatGPT and critically evaluate it.\n",
    "* Ask ChatGPT to create three multiple-choice questions for graduate students about choosing the best regression model for a specific task."
   ]
  }
 ],
 "metadata": {
  "kernelspec": {
   "display_name": "Python 3 (ipykernel)",
   "language": "python",
   "name": "python3"
  },
  "language_info": {
   "codemirror_mode": {
    "name": "ipython",
    "version": 3
   },
   "file_extension": ".py",
   "mimetype": "text/x-python",
   "name": "python",
   "nbconvert_exporter": "python",
   "pygments_lexer": "ipython3",
   "version": "3.10.9"
  }
 },
 "nbformat": 4,
 "nbformat_minor": 2
}
